{
 "cells": [
  {
   "cell_type": "code",
   "execution_count": 17,
   "metadata": {
    "id": "MJVZUvHca7M7"
   },
   "outputs": [],
   "source": [
    "import pandas as pd\n",
    "from surprise import Dataset, Reader\n",
    "from surprise import SVDpp, SVD, NMF, NormalPredictor, BaselineOnly, SlopeOne, KNNBasic, KNNWithMeans, KNNBaseline, CoClustering\n",
    "from surprise.model_selection import train_test_split, cross_validate\n",
    "from surprise import accuracy\n",
    "from hyperopt import hp"
   ]
  },
  {
   "cell_type": "code",
   "execution_count": 18,
   "metadata": {
    "id": "qM2GuFXga-V6"
   },
   "outputs": [],
   "source": [
    "data = Dataset.load_builtin(name = 'ml-100k' , prompt = True)"
   ]
  },
  {
   "cell_type": "code",
   "execution_count": 19,
   "metadata": {
    "colab": {
     "base_uri": "https://localhost:8080/"
    },
    "id": "KeqPGq1GbFZy",
    "outputId": "9c943dbc-0a1a-4b87-f6f8-84ef38cbaa0e"
   },
   "outputs": [
    {
     "name": "stdout",
     "output_type": "stream",
     "text": [
      "Evaluating RMSE, MAE of algorithm SVD on 5 split(s).\n",
      "\n",
      "                  Fold 1  Fold 2  Fold 3  Fold 4  Fold 5  Mean    Std     \n",
      "RMSE (testset)    0.9258  0.9371  0.9355  0.9375  0.9441  0.9360  0.0059  \n",
      "MAE (testset)     0.7280  0.7391  0.7383  0.7408  0.7433  0.7379  0.0052  \n",
      "Fit time          2.38    1.50    1.69    1.57    2.68    1.96    0.48    \n",
      "Test time         0.14    0.15    0.36    0.15    0.24    0.21    0.08    \n",
      "Середня RMSE: 0.9360160778554398\n",
      "Середня MAE: 0.7378981079471263\n"
     ]
    }
   ],
   "source": [
    "\n",
    "model = SVD()\n",
    "\n",
    "\n",
    "cv_results = cross_validate(model, data, measures=['RMSE', 'MAE'], cv=5, verbose=True)\n",
    "\n",
    "\n",
    "mean_rmse = cv_results['test_rmse'].mean()\n",
    "mean_mae = cv_results['test_mae'].mean()\n",
    "\n",
    "print('Середня RMSE:', mean_rmse)\n",
    "print('Середня MAE:', mean_mae)"
   ]
  },
  {
   "cell_type": "code",
   "execution_count": 23,
   "metadata": {
    "colab": {
     "base_uri": "https://localhost:8080/"
    },
    "id": "J4RWruajcaeZ",
    "outputId": "f69c300c-8391-42fb-fb25-6ffc0e931d0c"
   },
   "outputs": [
    {
     "name": "stdout",
     "output_type": "stream",
     "text": [
      "Evaluating RMSE, MAE of algorithm NMF on 5 split(s).\n",
      "\n",
      "                  Fold 1  Fold 2  Fold 3  Fold 4  Fold 5  Mean    Std     \n",
      "RMSE (testset)    0.9583  0.9587  0.9592  0.9590  0.9780  0.9626  0.0077  \n",
      "MAE (testset)     0.7534  0.7534  0.7535  0.7535  0.7679  0.7563  0.0058  \n",
      "Fit time          2.74    2.61    2.60    2.60    2.58    2.63    0.06    \n",
      "Test time         0.45    0.12    0.12    0.46    0.10    0.25    0.17    \n",
      "Середня RMSE для NMF: 0.9626414438139683\n",
      "Середня MAE для NMF: 0.7563185292927148\n"
     ]
    }
   ],
   "source": [
    "model_nmf = NMF()\n",
    "\n",
    "cv_results_nmf = cross_validate(model_nmf, data, measures=['RMSE', 'MAE'], cv=5, verbose=True)\n",
    "\n",
    "mean_rmse_nmf = cv_results_nmf['test_rmse'].mean()\n",
    "mean_mae_nmf = cv_results_nmf['test_mae'].mean()\n",
    "\n",
    "print('Середня RMSE для NMF:', mean_rmse_nmf)\n",
    "print('Середня MAE для NMF:', mean_mae_nmf)"
   ]
  },
  {
   "cell_type": "code",
   "execution_count": 25,
   "metadata": {
    "colab": {
     "base_uri": "https://localhost:8080/"
    },
    "id": "X0NjWfSUc2jW",
    "outputId": "ce1f4aec-580a-4b46-b17e-ffe526f693ec"
   },
   "outputs": [
    {
     "name": "stdout",
     "output_type": "stream",
     "text": [
      "Evaluating RMSE, MAE of algorithm SVDpp on 5 split(s).\n",
      "\n",
      "                  Fold 1  Fold 2  Fold 3  Fold 4  Fold 5  Mean    Std     \n",
      "RMSE (testset)    0.9231  0.9146  0.9203  0.9285  0.9217  0.9217  0.0045  \n",
      "MAE (testset)     0.7235  0.7179  0.7237  0.7262  0.7229  0.7228  0.0027  \n",
      "Fit time          28.18   26.71   27.00   27.56   27.67   27.43   0.52    \n",
      "Test time         4.20    4.99    4.55    4.43    5.00    4.63    0.31    \n",
      "Середня RMSE для SVD++: 0.9216533016641513\n",
      "Середня MAE для SVD++: 0.7228456736463538\n"
     ]
    }
   ],
   "source": [
    "model_svdpp = SVDpp()\n",
    "\n",
    "cv_results_svdpp = cross_validate(model_svdpp, data, measures=['RMSE', 'MAE'], cv=5, verbose=True)\n",
    "\n",
    "mean_rmse_svdpp = cv_results_svdpp['test_rmse'].mean()\n",
    "mean_mae_svdpp = cv_results_svdpp['test_mae'].mean()\n",
    "\n",
    "print('Середня RMSE для SVD++:', mean_rmse_svdpp)\n",
    "print('Середня MAE для SVD++:', mean_mae_svdpp)"
   ]
  },
  {
   "cell_type": "code",
   "execution_count": null,
   "metadata": {},
   "outputs": [],
   "source": [
    "Алгоритм SVD++ демонструє більш високу точність, з нижчими значеннями RMSE та MAE, порівняно з алгоритмами SVD та NMF\n"
   ]
  }
 ],
 "metadata": {
  "colab": {
   "provenance": []
  },
  "kernelspec": {
   "display_name": "Python 3 (ipykernel)",
   "language": "python",
   "name": "python3"
  },
  "language_info": {
   "codemirror_mode": {
    "name": "ipython",
    "version": 3
   },
   "file_extension": ".py",
   "mimetype": "text/x-python",
   "name": "python",
   "nbconvert_exporter": "python",
   "pygments_lexer": "ipython3",
   "version": "3.11.2"
  }
 },
 "nbformat": 4,
 "nbformat_minor": 4
}
